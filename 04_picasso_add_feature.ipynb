{
 "cells": [
  {
   "cell_type": "code",
   "execution_count": null,
   "metadata": {},
   "outputs": [],
   "source": [
    "import pandas as pd\n",
    "import numpy as np\n",
    "import matplotlib.pyplot as plt\n",
    "%matplotlib inline\n",
    "import seaborn as sns\n",
    "sns.set()\n",
    "import re"
   ]
  },
  {
   "cell_type": "code",
   "execution_count": null,
   "metadata": {},
   "outputs": [],
   "source": [
    "# load data\n",
    "df = pd.read_csv('picasso_data_before_text.csv')\n",
    "cols = ['item_description', 'item_title', 'auc_end_weekday',\n",
    "       'sold_price_value_usd', 'est_low_value_usd', 'est_high_value_usd',\n",
    "       'bid_start_value_usd', 'auc_to_now_days', 'auc_region',\n",
    "       'item_title_word_count', 'item_description_word_count']\n",
    "df.columns = cols"
   ]
  },
  {
   "cell_type": "code",
   "execution_count": null,
   "metadata": {},
   "outputs": [],
   "source": [
    "# re-arrange columns\n",
    "df = df[[\n",
    "    'sold_price_value_usd',\n",
    "    'bid_start_value_usd', 'est_low_value_usd', 'est_high_value_usd',\n",
    "    'auc_to_now_days',\n",
    "    'auc_region',\n",
    "    'auc_end_weekday',\n",
    "    'item_title_word_count', 'item_description_word_count',\n",
    "    'item_title', 'item_description'   \n",
    "]]"
   ]
  },
  {
   "cell_type": "code",
   "execution_count": null,
   "metadata": {},
   "outputs": [],
   "source": [
    "# lower text\n",
    "df['item_title'] = df['item_title'].apply(lambda x: x.lower())\n",
    "df['item_description'] = df['item_description'].apply(lambda x: x.lower())"
   ]
  },
  {
   "cell_type": "code",
   "execution_count": null,
   "metadata": {},
   "outputs": [],
   "source": [
    "# get signature info\n",
    "\n",
    "def get_sign(string):\n",
    "    if string.find('sign') == -1:\n",
    "        return 0\n",
    "    else:\n",
    "        return 1"
   ]
  },
  {
   "cell_type": "code",
   "execution_count": null,
   "metadata": {},
   "outputs": [],
   "source": [
    "df['sign'] = ((df['item_description'].apply(get_sign) + df['item_title'].apply(get_sign) + 1) / 2).apply(int)"
   ]
  },
  {
   "cell_type": "code",
   "execution_count": null,
   "metadata": {},
   "outputs": [],
   "source": [
    "def signed_or_not(number):\n",
    "    if number == 1:\n",
    "        return 'signed'\n",
    "    else:\n",
    "        return 'not_signed'"
   ]
  },
  {
   "cell_type": "code",
   "execution_count": null,
   "metadata": {},
   "outputs": [],
   "source": [
    "df['sign'] = df['sign'].apply(signed_or_not)"
   ]
  },
  {
   "cell_type": "code",
   "execution_count": null,
   "metadata": {},
   "outputs": [],
   "source": [
    "# get lithograph info\n",
    "\n",
    "def get_litho(string):\n",
    "    if string.find('litho') == -1:\n",
    "        return 0\n",
    "    else:\n",
    "        return 1"
   ]
  },
  {
   "cell_type": "code",
   "execution_count": null,
   "metadata": {},
   "outputs": [],
   "source": [
    "df['litho'] = ((df['item_description'].apply(get_litho) + df['item_title'].apply(get_litho) + 1) / 2).apply(int)"
   ]
  },
  {
   "cell_type": "code",
   "execution_count": null,
   "metadata": {},
   "outputs": [],
   "source": [
    "def get_litho(string):\n",
    "    if string.find('litho') == -1:\n",
    "        return 0\n",
    "    else:\n",
    "        return 1"
   ]
  },
  {
   "cell_type": "code",
   "execution_count": null,
   "metadata": {},
   "outputs": [],
   "source": [
    "df['litho'] = ((df['item_description'].apply(get_litho) + df['item_title'].apply(get_litho) + 1) / 2).apply(int)"
   ]
  },
  {
   "cell_type": "code",
   "execution_count": null,
   "metadata": {},
   "outputs": [],
   "source": [
    "def litho_or_not(number):\n",
    "    if number == 1:\n",
    "        return 'litho'\n",
    "    else:\n",
    "        return 'not_litho'"
   ]
  },
  {
   "cell_type": "code",
   "execution_count": null,
   "metadata": {},
   "outputs": [],
   "source": [
    "df['litho'] = df['litho'].apply(litho_or_not)"
   ]
  },
  {
   "cell_type": "code",
   "execution_count": null,
   "metadata": {},
   "outputs": [],
   "source": [
    "df3.to_csv('picasso_data_for_model.csv', mode='a', index=False, header=False)"
   ]
  },
  {
   "cell_type": "code",
   "execution_count": null,
   "metadata": {},
   "outputs": [],
   "source": [
    "# headers = ['sold_price_value_usd', 'bid_start_value_usd', 'est_low_value_usd',\n",
    "#        'est_high_value_usd', 'auc_to_now_days', 'auc_region',\n",
    "#        'auc_end_weekday', 'item_title_word_count',\n",
    "#        'item_description_word_count', 'item_title', 'item_description', 'sign',\n",
    "#        'litho']"
   ]
  }
 ],
 "metadata": {
  "kernelspec": {
   "display_name": "Python 3",
   "language": "python",
   "name": "python3"
  },
  "language_info": {
   "codemirror_mode": {
    "name": "ipython",
    "version": 3
   },
   "file_extension": ".py",
   "mimetype": "text/x-python",
   "name": "python",
   "nbconvert_exporter": "python",
   "pygments_lexer": "ipython3",
   "version": "3.6.5"
  }
 },
 "nbformat": 4,
 "nbformat_minor": 2
}
