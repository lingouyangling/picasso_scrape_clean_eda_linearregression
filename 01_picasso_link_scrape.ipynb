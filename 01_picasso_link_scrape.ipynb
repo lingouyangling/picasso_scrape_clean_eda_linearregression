{
 "cells": [
  {
   "cell_type": "markdown",
   "metadata": {},
   "source": [
    "source: liveauctioneers > price results > search pablo picasso > price sort desc"
   ]
  },
  {
   "cell_type": "code",
   "execution_count": 329,
   "metadata": {},
   "outputs": [],
   "source": [
    "import requests\n",
    "from bs4 import BeautifulSoup\n",
    "from selenium import webdriver\n",
    "import time\n",
    "from selenium.webdriver.common.by import By\n",
    "from selenium.webdriver.support.ui import WebDriverWait\n",
    "from selenium.webdriver.support import expected_conditions as EC"
   ]
  },
  {
   "cell_type": "markdown",
   "metadata": {},
   "source": [
    "Find item links\n",
    "24 items per page"
   ]
  },
  {
   "cell_type": "code",
   "execution_count": 330,
   "metadata": {},
   "outputs": [],
   "source": [
    "driver = webdriver.Chrome('/Users/ouyangling/ds/chromedriver')"
   ]
  },
  {
   "cell_type": "code",
   "execution_count": 331,
   "metadata": {},
   "outputs": [],
   "source": [
    "loginurl = 'https://www.liveauctioneers.com/'"
   ]
  },
  {
   "cell_type": "code",
   "execution_count": 332,
   "metadata": {},
   "outputs": [],
   "source": [
    "#open the login page\n",
    "driver.get(loginurl)"
   ]
  },
  {
   "cell_type": "code",
   "execution_count": 333,
   "metadata": {},
   "outputs": [],
   "source": [
    "#find and click the login link\n",
    "driver.find_element_by_xpath('//*[@id=\"content\"]/div[4]/div[3]/div[2]/div[1]/div[4]/div/a').click() "
   ]
  },
  {
   "cell_type": "code",
   "execution_count": 334,
   "metadata": {},
   "outputs": [],
   "source": [
    "#find the username input and input the username\n",
    "element = driver.find_element_by_id(\"uname\")\n",
    "element.send_keys('myemail@gmail.com')"
   ]
  },
  {
   "cell_type": "code",
   "execution_count": 335,
   "metadata": {},
   "outputs": [],
   "source": [
    "#find the password input and input password\n",
    "element = driver.find_element_by_id(\"pw\")\n",
    "element.send_keys('mypassword')"
   ]
  },
  {
   "cell_type": "code",
   "execution_count": 336,
   "metadata": {},
   "outputs": [],
   "source": [
    "#find login button and click\n",
    "driver.find_element_by_css_selector('body > div:nth-child(17) > div > div > div.modal-right___351NU > div.modal-body___1SRyX.modal-body-default___1HKRO > div > div > button').click()"
   ]
  },
  {
   "cell_type": "code",
   "execution_count": 337,
   "metadata": {},
   "outputs": [],
   "source": [
    "#click 'price results' link\n",
    "driver.find_element_by_xpath('//*[@id=\"content\"]/div[4]/div[3]/div[1]/div/a[2]/span').click()"
   ]
  },
  {
   "cell_type": "code",
   "execution_count": 338,
   "metadata": {},
   "outputs": [],
   "source": [
    "#find search input and enter keyword\n",
    "element = driver.find_element_by_xpath('//*[@id=\"main\"]/div/div/div[1]/div/div[1]/input[1]')\n",
    "element.send_keys('pablo picasso\\n')"
   ]
  },
  {
   "cell_type": "code",
   "execution_count": 339,
   "metadata": {},
   "outputs": [],
   "source": [
    "# sort by prices desc\n",
    "element = driver.find_element_by_xpath('//*[@id=\"sort\"]/option[7]').click()"
   ]
  },
  {
   "cell_type": "code",
   "execution_count": 340,
   "metadata": {},
   "outputs": [],
   "source": [
    "# scrape 100 list page to get 24*100 item urls\n",
    "domain = 'https://www.liveauctioneers.com'\n",
    "url_list = []\n",
    "page = 0\n",
    "while page < 100:\n",
    "    soup = BeautifulSoup(driver.page_source, 'html.parser')\n",
    "    url_list.extend([domain+x['href'] for x in soup.find_all(attrs={'class':'link link-primary item-title___1nwlh'})])\n",
    "    time.sleep(2)\n",
    "    # click next\n",
    "    driver.find_element_by_css_selector('#main > div > div.search-page-items___3ByUF > div.search-page-results-wrapper___2bfu9 > div > div.pagination-container___3VWUM.paginator-container___3IIry > ul > li.next').click()\n",
    "    \n",
    "    page = page + 1\n",
    "    time.sleep(10)\n",
    "\n",
    "driver.quit()"
   ]
  },
  {
   "cell_type": "code",
   "execution_count": 341,
   "metadata": {},
   "outputs": [],
   "source": [
    "import pandas as pd"
   ]
  },
  {
   "cell_type": "code",
   "execution_count": 311,
   "metadata": {},
   "outputs": [],
   "source": [
    "df = pd.DataFrame({'item_url':url_list})"
   ]
  },
  {
   "cell_type": "code",
   "execution_count": 313,
   "metadata": {},
   "outputs": [],
   "source": [
    "# store dataframe to a csv file\n",
    "df.to_csv('picasso_url_list.csv')"
   ]
  }
 ],
 "metadata": {
  "kernelspec": {
   "display_name": "Python 3",
   "language": "python",
   "name": "python3"
  },
  "language_info": {
   "codemirror_mode": {
    "name": "ipython",
    "version": 3
   },
   "file_extension": ".py",
   "mimetype": "text/x-python",
   "name": "python",
   "nbconvert_exporter": "python",
   "pygments_lexer": "ipython3",
   "version": "3.6.5"
  }
 },
 "nbformat": 4,
 "nbformat_minor": 2
}
