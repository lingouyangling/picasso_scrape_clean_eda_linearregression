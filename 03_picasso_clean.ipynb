{
 "cells": [
  {
   "cell_type": "code",
   "execution_count": null,
   "metadata": {},
   "outputs": [],
   "source": [
    "import requests\n",
    "from bs4 import BeautifulSoup\n",
    "from selenium import webdriver\n",
    "import time\n",
    "from selenium.webdriver.common.by import By\n",
    "from selenium.webdriver.support.ui import WebDriverWait\n",
    "from selenium.webdriver.support import expected_conditions as EC\n",
    "import csv\n",
    "import re\n",
    "import pandas as pd\n",
    "import numpy as np\n",
    "import datetime as dt\n",
    "from datetime import datetime"
   ]
  },
  {
   "cell_type": "code",
   "execution_count": null,
   "metadata": {},
   "outputs": [],
   "source": [
    "# load data\n",
    "df = pd.read_csv('picasso_data.csv')\n",
    "cols = ['auc_end_date', 'auctioneer', 'auctioneer_address', 'bid_history',\n",
    "       'est_price', 'item_description', 'item_title', 'item_url',\n",
    "       'sold_price']\n",
    "df.columns = cols"
   ]
  },
  {
   "cell_type": "code",
   "execution_count": null,
   "metadata": {},
   "outputs": [],
   "source": [
    "# nan\n",
    "df = df.replace(to_replace='None', value=np.nan).dropna().reset_index(drop=True)"
   ]
  },
  {
   "cell_type": "code",
   "execution_count": null,
   "metadata": {},
   "outputs": [],
   "source": [
    "# auc_end_weekday\n",
    "df['auc_end_weekday'] = (df.auc_end_date.str.strip()\n",
    "                          .str.split(' on ',expand=True)[1]\n",
    "                          .str.strip().str.split(', ', 1, expand=True)[0]\n",
    "                         )"
   ]
  },
  {
   "cell_type": "code",
   "execution_count": null,
   "metadata": {},
   "outputs": [],
   "source": [
    "# auc_end_date\n",
    "df['auc_end_date_lean'] = (df.auc_end_date.str.strip()\n",
    "                            .str.split(' on ',expand=True)[1]\n",
    "                            .str.strip().str.split(', ', 1, expand=True)[1]\n",
    "                           )\n"
   ]
  },
  {
   "cell_type": "code",
   "execution_count": null,
   "metadata": {},
   "outputs": [],
   "source": [
    "# price functions\n",
    "def get_price_value(x):\n",
    "    num_thousand = x[re.search('\\d', x).start():]\n",
    "    num_string = num_thousand.replace(',','')\n",
    "    num_float = float(num_string.strip())\n",
    "    num_int = int(num_float)\n",
    "    return num_int\n",
    "\n",
    "def get_price_currency(x):\n",
    "    return (x[:re.search('\\d', x).start()]\n",
    "            .strip()\n",
    "           )"
   ]
  },
  {
   "cell_type": "code",
   "execution_count": null,
   "metadata": {},
   "outputs": [],
   "source": [
    "# get price\n",
    "df['sold_price_value'] = (df.sold_price.str.strip()\n",
    "                           .str.split(' ',expand=True)[2]\n",
    "                           .apply(get_price_value)\n",
    "                          )"
   ]
  },
  {
   "cell_type": "code",
   "execution_count": null,
   "metadata": {},
   "outputs": [],
   "source": [
    "# get currency\n",
    "df['sold_price_currency'] = (df.sold_price.str.strip()\n",
    "                              .str.split(' ',expand=True)[2]\n",
    "                              .apply(get_price_currency)\n",
    "                             )"
   ]
  },
  {
   "cell_type": "code",
   "execution_count": null,
   "metadata": {},
   "outputs": [],
   "source": [
    "# check currencies\n",
    "df.sold_price_currency.value_counts()"
   ]
  },
  {
   "cell_type": "code",
   "execution_count": null,
   "metadata": {},
   "outputs": [],
   "source": [
    "df['est_low_value'] = (df\\.est_price.str.strip()\n",
    "                        .str.split(' ', expand=True)[1]\n",
    "                        .apply(get_price_value)\n",
    "                       )\n",
    "\n",
    "df['est_low_currency'] = (df.est_price\n",
    "                           .str.strip().str.split(' ', expand=True)[1]\n",
    "                           .apply(get_price_currency)\n",
    "                          )\n",
    "\n",
    "df['est_high_value'] = (df.est_price.str.strip()\n",
    "                        .str.split(' ', expand=True)[3]\n",
    "                        .apply(get_price_value)\n",
    "                        )\n",
    "df['est_high_currency'] = (df.est_price\n",
    "                           .str.strip().str.split(' ', expand=True)[3]\n",
    "                           .apply(get_price_currency)\n",
    "                          )\n",
    "\n",
    "df['bid_start_value'] = [get_price_value(x[-1]) for x in df.bid_history]\n",
    "\n",
    "df['bid_start_currency'] = [get_price_currency(x[-1]) for x in df.bid_history]"
   ]
  },
  {
   "cell_type": "code",
   "execution_count": null,
   "metadata": {},
   "outputs": [],
   "source": [
    "# map the dollor signs used to the standard currency code\n",
    "cur_ref = [\n",
    "    ['$', 'USD'],\n",
    "    ['€', 'EUR'],\n",
    "    ['£', 'GBP'],\n",
    "    ['CHF', 'CHF'],\n",
    "    ['CA$', 'CAD'],\n",
    "    ['A$', 'AUD'],\n",
    "    ['PLN', 'PLN'],\n",
    "    ['NZ$', 'NZD'],\n",
    "    ['NOK', 'NOK'],\n",
    "    ['NT$', 'TWD'],\n",
    "    ['MX$', 'MXN'],\n",
    "    ['HK$', 'HKD']\n",
    "]"
   ]
  },
  {
   "cell_type": "code",
   "execution_count": null,
   "metadata": {},
   "outputs": [],
   "source": [
    "# replace the currency signs to standard code in the df\n",
    "for i in range(len(cur_ref)):\n",
    "    df['sold_price_currency'] = df['sold_price_currency'].replace(cur_ref[i][0], cur_ref[i][1])\n",
    "    df['est_low_currency'] = df['est_low_currency'].replace(cur_ref[i][0], cur_ref[i][1])\n",
    "    df['est_high_currency'] = df['est_high_currency'].replace(cur_ref[i][0], cur_ref[i][1])\n",
    "    df['bid_start_currency'] = df['bid_start_currency'].replace(cur_ref[i][0], cur_ref[i][1])"
   ]
  },
  {
   "cell_type": "code",
   "execution_count": null,
   "metadata": {},
   "outputs": [],
   "source": [
    "# convert source string to datetime datatype for future timedelta use\n",
    "df['auc_end_date_lean'] = df['auc_end_date_lean'].apply(lambda x: datetime.strptime(x.strip(), '%b %d, %Y'))"
   ]
  },
  {
   "cell_type": "code",
   "execution_count": null,
   "metadata": {},
   "outputs": [],
   "source": [
    "# make a string of date for future api use\n",
    "df['auc_end_data_str'] = df['auc_end_date_lean'].apply(lambda x: x.strftime('%Y-%m-%d'))"
   ]
  },
  {
   "cell_type": "code",
   "execution_count": null,
   "metadata": {},
   "outputs": [],
   "source": [
    "# check the currency consistency for each item\n",
    "for i in range(len(df)):\n",
    "    if df['sold_price_currency'][i] == df['est_low_currency'][i] == df['est_high_currency'][i] == df['bid_start_currency'][i] is False:\n",
    "        print(i)"
   ]
  },
  {
   "cell_type": "code",
   "execution_count": null,
   "metadata": {},
   "outputs": [],
   "source": [
    "import json\n",
    "import requests"
   ]
  },
  {
   "cell_type": "code",
   "execution_count": null,
   "metadata": {},
   "outputs": [],
   "source": [
    "# use df['sold_price_currency'] for exchange rate reference\n",
    "def get_rate(cur, date):\n",
    "    apiurl = 'http://apilayer.net/api/historical'\n",
    "    key = 'a0e1e75cba889e9457d43ebaa58e39fe'\n",
    "    url = apiurl + '?access_key=' + key + '&date=' + date + '&currencies=' + cur\n",
    "    if cur == 'USD':\n",
    "        return 1.0\n",
    "    else:\n",
    "        response = requests.get(url)\n",
    "        json_data = json.loads(response.text)\n",
    "        return json_data['quotes']['USD' + cur]"
   ]
  },
  {
   "cell_type": "code",
   "execution_count": null,
   "metadata": {},
   "outputs": [],
   "source": [
    "# find currency denominators\n",
    "df['currency_denominator'] = [get_rate(df['sold_price_currency'][i], df['auc_end_data_str'][i]) for i in range(len(df))]"
   ]
  },
  {
   "cell_type": "code",
   "execution_count": null,
   "metadata": {},
   "outputs": [],
   "source": [
    "# sold price in usd\n",
    "df['sold_price_value_usd'] = [int(df['sold_price_value'][i] / df['currency_denominator'][i]) for i in range(len(df))]"
   ]
  },
  {
   "cell_type": "code",
   "execution_count": null,
   "metadata": {},
   "outputs": [],
   "source": [
    "# estimate low in usd\n",
    "df2['est_low_value_usd'] = [int(df['est_low_value'][i] / df['currency_denominator'][i]) for i in range(len(df))]"
   ]
  },
  {
   "cell_type": "code",
   "execution_count": null,
   "metadata": {},
   "outputs": [],
   "source": [
    "# estimate high in usd\n",
    "df['est_high_value_usd'] = [int(df['est_high_value'][i] / df['currency_denominator'][i]) for i in range(len(df))]"
   ]
  },
  {
   "cell_type": "code",
   "execution_count": null,
   "metadata": {},
   "outputs": [],
   "source": [
    "# bid start in usd\n",
    "df['bid_start_value_usd'] = [int(df['bid_start_value'][i] / df['currency_denominator'][i]) for i in range(len(df))]"
   ]
  },
  {
   "cell_type": "code",
   "execution_count": null,
   "metadata": {},
   "outputs": [],
   "source": [
    "# calculate the days from auction to now\n",
    "df['auc_to_now_days'] = df['auc_end_date_lean'].apply(lambda x: (datetime.now() - x).days)"
   ]
  },
  {
   "cell_type": "code",
   "execution_count": null,
   "metadata": {},
   "outputs": [],
   "source": [
    "# get the auction country/region from auctioneer_address\n",
    "df['auc_region'] = [x[-1].strip() for x in df['auctioneer_address']]"
   ]
  },
  {
   "cell_type": "code",
   "execution_count": null,
   "metadata": {},
   "outputs": [],
   "source": [
    "# word counts of item title\n",
    "df['item_title_word_count'] = [len(x.split()) for x in df['item_title']]"
   ]
  },
  {
   "cell_type": "code",
   "execution_count": null,
   "metadata": {},
   "outputs": [],
   "source": [
    "# convert item_description from list to string\n",
    "df['item_description'] = df['item_description'].apply(lambda x: ' '.join([str(i) for i in x]))"
   ]
  },
  {
   "cell_type": "code",
   "execution_count": null,
   "metadata": {},
   "outputs": [],
   "source": [
    "def striphtml(data):\n",
    "    p = re.compile(r'<.*?>')\n",
    "    return p.sub('', data)"
   ]
  },
  {
   "cell_type": "code",
   "execution_count": null,
   "metadata": {},
   "outputs": [],
   "source": [
    "# remove the html tags\n",
    "df['item_description'] = df['item_description'].apply(striphtml)"
   ]
  },
  {
   "cell_type": "code",
   "execution_count": null,
   "metadata": {},
   "outputs": [],
   "source": [
    "# word counts of item description\n",
    "df['item_description_word_count'] = [len(x.split()) for x in df['item_description']]"
   ]
  },
  {
   "cell_type": "code",
   "execution_count": null,
   "metadata": {},
   "outputs": [],
   "source": [
    "# drop auctioneer_address\n",
    "df.drop('auctioneer_address', axis=1, inplace=True)\n",
    "\n",
    "# drop auctioneer\n",
    "df.drop('auctioneer', axis=1, inplace=True)"
   ]
  },
  {
   "cell_type": "code",
   "execution_count": null,
   "metadata": {},
   "outputs": [],
   "source": [
    "df.to_csv('picasso_data_before_text.csv', mode='a', index=False, header=False)"
   ]
  },
  {
   "cell_type": "code",
   "execution_count": null,
   "metadata": {},
   "outputs": [],
   "source": [
    "# header = ['item_description', 'item_title', 'auc_end_weekday',\n",
    "#        'sold_price_value_usd', 'est_low_value_usd', 'est_high_value_usd',\n",
    "#        'bid_start_value_usd', 'auc_to_now_days', 'auc_region',\n",
    "#        'item_title_word_count', 'item_description_word_count']"
   ]
  }
 ],
 "metadata": {
  "kernelspec": {
   "display_name": "Python 3",
   "language": "python",
   "name": "python3"
  },
  "language_info": {
   "codemirror_mode": {
    "name": "ipython",
    "version": 3
   },
   "file_extension": ".py",
   "mimetype": "text/x-python",
   "name": "python",
   "nbconvert_exporter": "python",
   "pygments_lexer": "ipython3",
   "version": "3.6.5"
  }
 },
 "nbformat": 4,
 "nbformat_minor": 2
}
